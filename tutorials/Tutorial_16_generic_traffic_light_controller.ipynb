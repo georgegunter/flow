{
 "cells": [
  {
   "cell_type": "code",
   "execution_count": 1,
   "metadata": {},
   "outputs": [],
   "source": [
    "from flow.controllers import SimCarFollowingController, GridRouter\n",
    "\n",
    "from flow.core.params import SumoParams, EnvParams, InitialConfig, NetParams, \\\n",
    "    InFlows, SumoCarFollowingParams\n",
    "from flow.core.params import VehicleParams\n",
    "from flow.core.params import TrafficLightParams\n",
    "from flow.core.params import SumoCarFollowingParams\n",
    "from flow.core.params import InFlows\n",
    "\n",
    "from flow.envs.traffic_light_grid import ADDITIONAL_ENV_PARAMS\n",
    "from flow.envs import TrafficLightGridGenericObserver\n",
    "\n",
    "from flow.networks import TrafficLightGridNetwork\n",
    "\n",
    "from flow.core.experiment import Experiment\n",
    "\n",
    "from signal_control.Testing.TrafficGrid_utils import *\n",
    "\n",
    "\n",
    "\n",
    "import matplotlib.pyplot as plt\n",
    "import numpy as np"
   ]
  },
  {
   "cell_type": "code",
   "execution_count": 2,
   "metadata": {},
   "outputs": [
    {
     "name": "stdout",
     "output_type": "stream",
     "text": [
      "Defined simulation parameters.\n"
     ]
    }
   ],
   "source": [
    "\n",
    "\n",
    "v_enter = 10\n",
    "inner_length = 300\n",
    "long_length = 500\n",
    "short_length = 500\n",
    "\n",
    "# Defines rows and columns:\n",
    "n_rows = 1\n",
    "n_columns = 5\n",
    "\n",
    "\n",
    "num_cars_left = 0\n",
    "num_cars_right = 0\n",
    "num_cars_top = 0\n",
    "num_cars_bot = 0\n",
    "tot_cars = (num_cars_left + num_cars_right) * n_columns \\\n",
    "           + (num_cars_top + num_cars_bot) * n_rows\n",
    "\n",
    "grid_array = {\n",
    "    \"short_length\": short_length,\n",
    "    \"inner_length\": inner_length,\n",
    "    \"long_length\": long_length,\n",
    "    \"row_num\": n_rows,\n",
    "    \"col_num\": n_columns,\n",
    "    \"cars_left\": num_cars_left,\n",
    "    \"cars_right\": num_cars_right,\n",
    "    \"cars_top\": num_cars_top,\n",
    "    \"cars_bot\": num_cars_bot\n",
    "}\n",
    "\n",
    "\n",
    "def gen_edges(col_num, row_num):\n",
    "    \"\"\"Generate the names of the outer edges in the grid network.\n",
    "\n",
    "    Parameters\n",
    "    ----------\n",
    "    col_num : int\n",
    "        number of columns in the grid\n",
    "    row_num : int\n",
    "        number of rows in the grid\n",
    "\n",
    "    Returns\n",
    "    -------\n",
    "    list of str\n",
    "        names of all the outer edges\n",
    "    \"\"\"\n",
    "    edges = []\n",
    "\n",
    "    # build the left and then the right edges\n",
    "    for i in range(col_num):\n",
    "        edges += ['left' + str(row_num) + '_' + str(i)]\n",
    "        edges += ['right' + '0' + '_' + str(i)]\n",
    "\n",
    "    # build the bottom and then top edges\n",
    "    for i in range(row_num):\n",
    "        edges += ['bot' + str(i) + '_' + '0']\n",
    "        edges += ['top' + str(i) + '_' + str(col_num)]\n",
    "\n",
    "    return edges\n",
    "\n",
    "\n",
    "def get_flow_params(col_num, row_num, additional_net_params,main_flow,arterial_flow):\n",
    "    \"\"\"Define the network and initial params in the presence of inflows.\n",
    "\n",
    "    Parameters\n",
    "    ----------\n",
    "    col_num : int\n",
    "        number of columns in the grid\n",
    "    row_num : int\n",
    "        number of rows in the grid\n",
    "    additional_net_params : dict\n",
    "        network-specific parameters that are unique to the grid\n",
    "\n",
    "    Returns\n",
    "    -------\n",
    "    flow.core.params.InitialConfig\n",
    "        parameters specifying the initial configuration of vehicles in the\n",
    "        network\n",
    "    flow.core.params.NetParams\n",
    "        network-specific parameters used to generate the network\n",
    "    \"\"\"\n",
    "    initial = InitialConfig(\n",
    "        spacing='custom', lanes_distribution=float('inf'), shuffle=True)\n",
    "\n",
    "    inflow = InFlows()\n",
    "    outer_edges = gen_edges(col_num, row_num)\n",
    "    for i in range(len(outer_edges)):\n",
    "        edge_id = outer_edges[i]\n",
    "        if('top' in edge_id):\n",
    "            inflow.add(\n",
    "                veh_type='human',\n",
    "                edge=edge_id,\n",
    "                vehs_per_hour=main_flow,\n",
    "                depart_lane='free',\n",
    "                depart_speed=20)\n",
    "        else:\n",
    "            inflow.add(\n",
    "                veh_type='human',\n",
    "                edge=edge_id,\n",
    "                vehs_per_hour=arterial_flow,\n",
    "                depart_lane='free',\n",
    "                depart_speed=20)\n",
    "\n",
    "    net = NetParams(\n",
    "        inflows=inflow,\n",
    "        additional_params=additional_net_params)\n",
    "\n",
    "    return initial, net\n",
    "\n",
    "\n",
    "def get_non_flow_params(enter_speed, add_net_params):\n",
    "    \"\"\"Define the network and initial params in the absence of inflows.\n",
    "\n",
    "    Note that when a vehicle leaves a network in this case, it is immediately\n",
    "    returns to the start of the row/column it was traversing, and in the same\n",
    "    direction as it was before.\n",
    "\n",
    "    Parameters\n",
    "    ----------\n",
    "    enter_speed : float\n",
    "        initial speed of vehicles as they enter the network.\n",
    "    add_net_params: dict\n",
    "        additional network-specific parameters (unique to the grid)\n",
    "\n",
    "    Returns\n",
    "    -------\n",
    "    flow.core.params.InitialConfig\n",
    "        parameters specifying the initial configuration of vehicles in the\n",
    "        network\n",
    "    flow.core.params.NetParams\n",
    "        network-specific parameters used to generate the network\n",
    "    \"\"\"\n",
    "    additional_init_params = {'enter_speed': enter_speed}\n",
    "    initial = InitialConfig(\n",
    "        spacing='custom', additional_params=additional_init_params)\n",
    "    net = NetParams(additional_params=add_net_params)\n",
    "\n",
    "    return initial, net\n",
    "\n",
    "\n",
    "###### VEHICLES: ######\n",
    "\n",
    "vehicles = VehicleParams()\n",
    "vehicles.add(\n",
    "    veh_id=\"human\",\n",
    "    routing_controller=(GridRouter, {}),\n",
    "    car_following_params=SumoCarFollowingParams(\n",
    "        min_gap=2.5,\n",
    "        decel=7.5,  # avoid collisions at emergency stops\n",
    "    ),\n",
    "    num_vehicles=tot_cars)\n",
    "\n",
    "additional_net_params = {\n",
    "    \"grid_array\": grid_array,\n",
    "    \"speed_limit\": 35,\n",
    "    \"horizontal_lanes\": 1,\n",
    "    \"vertical_lanes\": 1\n",
    "}\n",
    "\n",
    "\n",
    "###### FLOW RATES: ######\n",
    "\n",
    "\n",
    "MAIN_FLOW = 1000\n",
    "ARTERIAL_FLOW = 200\n",
    "\n",
    "\n",
    "initial_config, net_params = get_flow_params(\n",
    "    col_num=n_columns,\n",
    "    row_num=n_rows,\n",
    "    additional_net_params=additional_net_params,\n",
    "    main_flow=MAIN_FLOW,\n",
    "    arterial_flow=ARTERIAL_FLOW)\n",
    "\n",
    "print('Defined simulation parameters.')"
   ]
  },
  {
   "cell_type": "code",
   "execution_count": 3,
   "metadata": {},
   "outputs": [
    {
     "name": "stdout",
     "output_type": "stream",
     "text": [
      "Observation details defined.\n"
     ]
    }
   ],
   "source": [
    "additional_env_params = {\n",
    "    'target_velocity': 50,\n",
    "    'switch_time': 3.0,\n",
    "    'num_observed': 2,\n",
    "    'discrete': False,\n",
    "    'tl_type': 'controlled',\n",
    "    'observer': observer_ave_veh_speed_counts_tl_states\n",
    "    }\n",
    "\n",
    "print('Observation details defined.')"
   ]
  },
  {
   "cell_type": "code",
   "execution_count": 35,
   "metadata": {},
   "outputs": [
    {
     "name": "stdout",
     "output_type": "stream",
     "text": [
      "Simulation parameters defined.\n"
     ]
    }
   ],
   "source": [
    "HORIZON = 100 # Number of simulation steps to be performed.\n",
    "\n",
    "flow_params = dict(\n",
    "    # name of the experiment\n",
    "    exp_tag='traffic_light_grid',\n",
    "\n",
    "    # name of the flow environment the experiment is running on\n",
    "    env_name=TrafficLightGridGenericObserver,\n",
    "\n",
    "    # name of the network class the experiment is running on\n",
    "    network=TrafficLightGridNetwork,\n",
    "\n",
    "    # simulator that is used by the experiment\n",
    "    simulator='traci',\n",
    "\n",
    "    # sumo-related parameters (see flow.core.params.SumoParams)\n",
    "    sim=SumoParams(\n",
    "        sim_step=0.5,\n",
    "        render=True, # For no rendering set to False\n",
    "    ),\n",
    "\n",
    "    # environment related parameters (see flow.core.params.EnvParams)\n",
    "    env=EnvParams(\n",
    "        horizon=HORIZON,\n",
    "        additional_params=additional_env_params,\n",
    "    ),\n",
    "\n",
    "    # network-related parameters (see flow.core.params.NetParams and the\n",
    "    # network's documentation or ADDITIONAL_NET_PARAMS component). This is\n",
    "    # filled in by the setup_exps method below.\n",
    "    net=net_params,\n",
    "\n",
    "    # vehicles to be placed in the network at the start of a rollout (see\n",
    "    # flow.core.params.VehicleParams)\n",
    "    veh=vehicles,\n",
    "\n",
    "    # parameters specifying the positioning of vehicles upon initialization/\n",
    "    # reset (see flow.core.params.InitialConfig). This is filled in by the\n",
    "    # setup_exps method below.\n",
    "    initial=initial_config,\n",
    ")\n",
    "\n",
    "print('Simulation parameters defined.')"
   ]
  },
  {
   "cell_type": "code",
   "execution_count": 28,
   "metadata": {},
   "outputs": [],
   "source": [
    "def static_controller(state):\n",
    "    num_nodes = 5\n",
    "    return np.zeros(num_nodes,)\n",
    "\n",
    "def timer_switch_controller(state):\n",
    "    num_nodes = 5\n",
    "    \n",
    "    actions = np.zeros(num_nodes,)\n",
    "    \n",
    "    time = state[-1]\n",
    "    \n",
    "    bc_light_state = state[2][0]\n",
    "    \n",
    "    if((time > 3.0) and (bc_light_state == 'rGrG')):\n",
    "        actions[0] = 1\n",
    "        print('Changing node 0')\n",
    "    \n",
    "    return actions"
   ]
  },
  {
   "cell_type": "code",
   "execution_count": 29,
   "metadata": {
    "scrolled": true
   },
   "outputs": [],
   "source": [
    "exp = Experiment(flow_params)"
   ]
  },
  {
   "cell_type": "code",
   "execution_count": 36,
   "metadata": {},
   "outputs": [
    {
     "name": "stdout",
     "output_type": "stream",
     "text": [
      "**********************************************************\n",
      "**********************************************************\n",
      "**********************************************************\n",
      "WARNING: Inflows will cause computational performance to\n",
      "significantly decrease after large number of rollouts. In \n",
      "order to avoid this, set SumoParams(restart_instance=True).\n",
      "**********************************************************\n",
      "**********************************************************\n",
      "**********************************************************\n"
     ]
    },
    {
     "ename": "AttributeError",
     "evalue": "'Connection' object has no attribute '_socket'",
     "output_type": "error",
     "traceback": [
      "\u001b[0;31m---------------------------------------------------------------------------\u001b[0m",
      "\u001b[0;31mAttributeError\u001b[0m                            Traceback (most recent call last)",
      "\u001b[0;32m<ipython-input-36-c7c704850ccf>\u001b[0m in \u001b[0;36m<module>\u001b[0;34m\u001b[0m\n\u001b[0;32m----> 1\u001b[0;31m \u001b[0minfo_dict\u001b[0m \u001b[0;34m=\u001b[0m \u001b[0mexp\u001b[0m\u001b[0;34m.\u001b[0m\u001b[0mrun\u001b[0m\u001b[0;34m(\u001b[0m\u001b[0mnum_runs\u001b[0m \u001b[0;34m=\u001b[0m \u001b[0;36m1\u001b[0m\u001b[0;34m,\u001b[0m \u001b[0mrl_actions\u001b[0m \u001b[0;34m=\u001b[0m \u001b[0mtimer_switch_controller\u001b[0m\u001b[0;34m)\u001b[0m\u001b[0;34m\u001b[0m\u001b[0;34m\u001b[0m\u001b[0m\n\u001b[0m",
      "\u001b[0;32m~/Desktop/General_research_tools/flow/flow/core/experiment.py\u001b[0m in \u001b[0;36mrun\u001b[0;34m(self, num_runs, rl_actions, convert_to_csv)\u001b[0m\n\u001b[1;32m    142\u001b[0m             \u001b[0mvel\u001b[0m \u001b[0;34m=\u001b[0m \u001b[0;34m[\u001b[0m\u001b[0;34m]\u001b[0m\u001b[0;34m\u001b[0m\u001b[0;34m\u001b[0m\u001b[0m\n\u001b[1;32m    143\u001b[0m             \u001b[0mcustom_vals\u001b[0m \u001b[0;34m=\u001b[0m \u001b[0;34m{\u001b[0m\u001b[0mkey\u001b[0m\u001b[0;34m:\u001b[0m \u001b[0;34m[\u001b[0m\u001b[0;34m]\u001b[0m \u001b[0;32mfor\u001b[0m \u001b[0mkey\u001b[0m \u001b[0;32min\u001b[0m \u001b[0mself\u001b[0m\u001b[0;34m.\u001b[0m\u001b[0mcustom_callables\u001b[0m\u001b[0;34m.\u001b[0m\u001b[0mkeys\u001b[0m\u001b[0;34m(\u001b[0m\u001b[0;34m)\u001b[0m\u001b[0;34m}\u001b[0m\u001b[0;34m\u001b[0m\u001b[0;34m\u001b[0m\u001b[0m\n\u001b[0;32m--> 144\u001b[0;31m             \u001b[0mstate\u001b[0m \u001b[0;34m=\u001b[0m \u001b[0mself\u001b[0m\u001b[0;34m.\u001b[0m\u001b[0menv\u001b[0m\u001b[0;34m.\u001b[0m\u001b[0mreset\u001b[0m\u001b[0;34m(\u001b[0m\u001b[0;34m)\u001b[0m\u001b[0;34m\u001b[0m\u001b[0;34m\u001b[0m\u001b[0m\n\u001b[0m\u001b[1;32m    145\u001b[0m             \u001b[0;32mfor\u001b[0m \u001b[0mj\u001b[0m \u001b[0;32min\u001b[0m \u001b[0mrange\u001b[0m\u001b[0;34m(\u001b[0m\u001b[0mnum_steps\u001b[0m\u001b[0;34m)\u001b[0m\u001b[0;34m:\u001b[0m\u001b[0;34m\u001b[0m\u001b[0;34m\u001b[0m\u001b[0m\n\u001b[1;32m    146\u001b[0m                 \u001b[0mt0\u001b[0m \u001b[0;34m=\u001b[0m \u001b[0mtime\u001b[0m\u001b[0;34m.\u001b[0m\u001b[0mtime\u001b[0m\u001b[0;34m(\u001b[0m\u001b[0;34m)\u001b[0m\u001b[0;34m\u001b[0m\u001b[0;34m\u001b[0m\u001b[0m\n",
      "\u001b[0;32m~/Desktop/General_research_tools/flow/flow/envs/base.py\u001b[0m in \u001b[0;36mreset\u001b[0;34m(self)\u001b[0m\n\u001b[1;32m    471\u001b[0m         \u001b[0;31m# clear all vehicles from the network and the vehicles class\u001b[0m\u001b[0;34m\u001b[0m\u001b[0;34m\u001b[0m\u001b[0;34m\u001b[0m\u001b[0m\n\u001b[1;32m    472\u001b[0m         \u001b[0;32mif\u001b[0m \u001b[0mself\u001b[0m\u001b[0;34m.\u001b[0m\u001b[0msimulator\u001b[0m \u001b[0;34m==\u001b[0m \u001b[0;34m'traci'\u001b[0m\u001b[0;34m:\u001b[0m\u001b[0;34m\u001b[0m\u001b[0;34m\u001b[0m\u001b[0m\n\u001b[0;32m--> 473\u001b[0;31m             \u001b[0;32mfor\u001b[0m \u001b[0mveh_id\u001b[0m \u001b[0;32min\u001b[0m \u001b[0mself\u001b[0m\u001b[0;34m.\u001b[0m\u001b[0mk\u001b[0m\u001b[0;34m.\u001b[0m\u001b[0mkernel_api\u001b[0m\u001b[0;34m.\u001b[0m\u001b[0mvehicle\u001b[0m\u001b[0;34m.\u001b[0m\u001b[0mgetIDList\u001b[0m\u001b[0;34m(\u001b[0m\u001b[0;34m)\u001b[0m\u001b[0;34m:\u001b[0m  \u001b[0;31m# FIXME: hack\u001b[0m\u001b[0;34m\u001b[0m\u001b[0;34m\u001b[0m\u001b[0m\n\u001b[0m\u001b[1;32m    474\u001b[0m                 \u001b[0;32mtry\u001b[0m\u001b[0;34m:\u001b[0m\u001b[0;34m\u001b[0m\u001b[0;34m\u001b[0m\u001b[0m\n\u001b[1;32m    475\u001b[0m                     \u001b[0mself\u001b[0m\u001b[0;34m.\u001b[0m\u001b[0mk\u001b[0m\u001b[0;34m.\u001b[0m\u001b[0mvehicle\u001b[0m\u001b[0;34m.\u001b[0m\u001b[0mremove\u001b[0m\u001b[0;34m(\u001b[0m\u001b[0mveh_id\u001b[0m\u001b[0;34m)\u001b[0m\u001b[0;34m\u001b[0m\u001b[0;34m\u001b[0m\u001b[0m\n",
      "\u001b[0;32m/opt/anaconda3/envs/flow/lib/python3.6/site-packages/traci/domain.py\u001b[0m in \u001b[0;36mgetIDList\u001b[0;34m(self)\u001b[0m\n\u001b[1;32m    121\u001b[0m         \u001b[0mReturns\u001b[0m \u001b[0ma\u001b[0m \u001b[0mlist\u001b[0m \u001b[0mof\u001b[0m \u001b[0mall\u001b[0m \u001b[0mobjects\u001b[0m \u001b[0;32min\u001b[0m \u001b[0mthe\u001b[0m \u001b[0mnetwork\u001b[0m\u001b[0;34m.\u001b[0m\u001b[0;34m\u001b[0m\u001b[0;34m\u001b[0m\u001b[0m\n\u001b[1;32m    122\u001b[0m         \"\"\"\n\u001b[0;32m--> 123\u001b[0;31m         \u001b[0;32mreturn\u001b[0m \u001b[0mself\u001b[0m\u001b[0;34m.\u001b[0m\u001b[0m_getUniversal\u001b[0m\u001b[0;34m(\u001b[0m\u001b[0mtc\u001b[0m\u001b[0;34m.\u001b[0m\u001b[0mTRACI_ID_LIST\u001b[0m\u001b[0;34m,\u001b[0m \u001b[0;34m\"\"\u001b[0m\u001b[0;34m)\u001b[0m\u001b[0;34m\u001b[0m\u001b[0;34m\u001b[0m\u001b[0m\n\u001b[0m\u001b[1;32m    124\u001b[0m \u001b[0;34m\u001b[0m\u001b[0m\n\u001b[1;32m    125\u001b[0m     \u001b[0;32mdef\u001b[0m \u001b[0mgetIDCount\u001b[0m\u001b[0;34m(\u001b[0m\u001b[0mself\u001b[0m\u001b[0;34m)\u001b[0m\u001b[0;34m:\u001b[0m\u001b[0;34m\u001b[0m\u001b[0;34m\u001b[0m\u001b[0m\n",
      "\u001b[0;32m/opt/anaconda3/envs/flow/lib/python3.6/site-packages/traci/domain.py\u001b[0m in \u001b[0;36m_getUniversal\u001b[0;34m(self, varID, objectID)\u001b[0m\n\u001b[1;32m    113\u001b[0m                 self._name, self._deprecatedFor))  # , DeprecationWarning)\n\u001b[1;32m    114\u001b[0m         result = self._connection._sendReadOneStringCmd(\n\u001b[0;32m--> 115\u001b[0;31m             self._cmdGetID, varID, objectID)\n\u001b[0m\u001b[1;32m    116\u001b[0m         \u001b[0;32mreturn\u001b[0m \u001b[0mself\u001b[0m\u001b[0;34m.\u001b[0m\u001b[0m_retValFunc\u001b[0m\u001b[0;34m[\u001b[0m\u001b[0mvarID\u001b[0m\u001b[0;34m]\u001b[0m\u001b[0;34m(\u001b[0m\u001b[0mresult\u001b[0m\u001b[0;34m)\u001b[0m\u001b[0;34m\u001b[0m\u001b[0;34m\u001b[0m\u001b[0m\n\u001b[1;32m    117\u001b[0m \u001b[0;34m\u001b[0m\u001b[0m\n",
      "\u001b[0;32m/opt/anaconda3/envs/flow/lib/python3.6/site-packages/traci/connection.py\u001b[0m in \u001b[0;36m_sendReadOneStringCmd\u001b[0;34m(self, cmdID, varID, objID)\u001b[0m\n\u001b[1;32m    126\u001b[0m     \u001b[0;32mdef\u001b[0m \u001b[0m_sendReadOneStringCmd\u001b[0m\u001b[0;34m(\u001b[0m\u001b[0mself\u001b[0m\u001b[0;34m,\u001b[0m \u001b[0mcmdID\u001b[0m\u001b[0;34m,\u001b[0m \u001b[0mvarID\u001b[0m\u001b[0;34m,\u001b[0m \u001b[0mobjID\u001b[0m\u001b[0;34m)\u001b[0m\u001b[0;34m:\u001b[0m\u001b[0;34m\u001b[0m\u001b[0;34m\u001b[0m\u001b[0m\n\u001b[1;32m    127\u001b[0m         \u001b[0mself\u001b[0m\u001b[0;34m.\u001b[0m\u001b[0m_beginMessage\u001b[0m\u001b[0;34m(\u001b[0m\u001b[0mcmdID\u001b[0m\u001b[0;34m,\u001b[0m \u001b[0mvarID\u001b[0m\u001b[0;34m,\u001b[0m \u001b[0mobjID\u001b[0m\u001b[0;34m)\u001b[0m\u001b[0;34m\u001b[0m\u001b[0;34m\u001b[0m\u001b[0m\n\u001b[0;32m--> 128\u001b[0;31m         \u001b[0;32mreturn\u001b[0m \u001b[0mself\u001b[0m\u001b[0;34m.\u001b[0m\u001b[0m_checkResult\u001b[0m\u001b[0;34m(\u001b[0m\u001b[0mcmdID\u001b[0m\u001b[0;34m,\u001b[0m \u001b[0mvarID\u001b[0m\u001b[0;34m,\u001b[0m \u001b[0mobjID\u001b[0m\u001b[0;34m)\u001b[0m\u001b[0;34m\u001b[0m\u001b[0;34m\u001b[0m\u001b[0m\n\u001b[0m\u001b[1;32m    129\u001b[0m \u001b[0;34m\u001b[0m\u001b[0m\n\u001b[1;32m    130\u001b[0m     \u001b[0;32mdef\u001b[0m \u001b[0m_sendIntCmd\u001b[0m\u001b[0;34m(\u001b[0m\u001b[0mself\u001b[0m\u001b[0;34m,\u001b[0m \u001b[0mcmdID\u001b[0m\u001b[0;34m,\u001b[0m \u001b[0mvarID\u001b[0m\u001b[0;34m,\u001b[0m \u001b[0mobjID\u001b[0m\u001b[0;34m,\u001b[0m \u001b[0mvalue\u001b[0m\u001b[0;34m)\u001b[0m\u001b[0;34m:\u001b[0m\u001b[0;34m\u001b[0m\u001b[0;34m\u001b[0m\u001b[0m\n",
      "\u001b[0;32m/opt/anaconda3/envs/flow/lib/python3.6/site-packages/traci/connection.py\u001b[0m in \u001b[0;36m_checkResult\u001b[0;34m(self, cmdID, varID, objID)\u001b[0m\n\u001b[1;32m    154\u001b[0m \u001b[0;34m\u001b[0m\u001b[0m\n\u001b[1;32m    155\u001b[0m     \u001b[0;32mdef\u001b[0m \u001b[0m_checkResult\u001b[0m\u001b[0;34m(\u001b[0m\u001b[0mself\u001b[0m\u001b[0;34m,\u001b[0m \u001b[0mcmdID\u001b[0m\u001b[0;34m,\u001b[0m \u001b[0mvarID\u001b[0m\u001b[0;34m,\u001b[0m \u001b[0mobjID\u001b[0m\u001b[0;34m)\u001b[0m\u001b[0;34m:\u001b[0m\u001b[0;34m\u001b[0m\u001b[0;34m\u001b[0m\u001b[0m\n\u001b[0;32m--> 156\u001b[0;31m         \u001b[0mresult\u001b[0m \u001b[0;34m=\u001b[0m \u001b[0mself\u001b[0m\u001b[0;34m.\u001b[0m\u001b[0m_sendExact\u001b[0m\u001b[0;34m(\u001b[0m\u001b[0;34m)\u001b[0m\u001b[0;34m\u001b[0m\u001b[0;34m\u001b[0m\u001b[0m\n\u001b[0m\u001b[1;32m    157\u001b[0m         \u001b[0mresult\u001b[0m\u001b[0;34m.\u001b[0m\u001b[0mreadLength\u001b[0m\u001b[0;34m(\u001b[0m\u001b[0;34m)\u001b[0m\u001b[0;34m\u001b[0m\u001b[0;34m\u001b[0m\u001b[0m\n\u001b[1;32m    158\u001b[0m         \u001b[0mresponse\u001b[0m\u001b[0;34m,\u001b[0m \u001b[0mretVarID\u001b[0m \u001b[0;34m=\u001b[0m \u001b[0mresult\u001b[0m\u001b[0;34m.\u001b[0m\u001b[0mread\u001b[0m\u001b[0;34m(\u001b[0m\u001b[0;34m\"!BB\"\u001b[0m\u001b[0;34m)\u001b[0m\u001b[0;34m\u001b[0m\u001b[0;34m\u001b[0m\u001b[0m\n",
      "\u001b[0;32m/opt/anaconda3/envs/flow/lib/python3.6/site-packages/traci/connection.py\u001b[0m in \u001b[0;36m_sendExact\u001b[0;34m(self)\u001b[0m\n\u001b[1;32m     92\u001b[0m         \u001b[0;32melse\u001b[0m\u001b[0;34m:\u001b[0m\u001b[0;34m\u001b[0m\u001b[0;34m\u001b[0m\u001b[0m\n\u001b[1;32m     93\u001b[0m             \u001b[0mlength\u001b[0m \u001b[0;34m=\u001b[0m \u001b[0mstruct\u001b[0m\u001b[0;34m.\u001b[0m\u001b[0mpack\u001b[0m\u001b[0;34m(\u001b[0m\u001b[0;34m\"!i\"\u001b[0m\u001b[0;34m,\u001b[0m \u001b[0mlen\u001b[0m\u001b[0;34m(\u001b[0m\u001b[0mself\u001b[0m\u001b[0;34m.\u001b[0m\u001b[0m_string\u001b[0m\u001b[0;34m)\u001b[0m \u001b[0;34m+\u001b[0m \u001b[0;36m4\u001b[0m\u001b[0;34m)\u001b[0m\u001b[0;34m\u001b[0m\u001b[0;34m\u001b[0m\u001b[0m\n\u001b[0;32m---> 94\u001b[0;31m             \u001b[0mself\u001b[0m\u001b[0;34m.\u001b[0m\u001b[0m_socket\u001b[0m\u001b[0;34m.\u001b[0m\u001b[0msend\u001b[0m\u001b[0;34m(\u001b[0m\u001b[0mlength\u001b[0m \u001b[0;34m+\u001b[0m \u001b[0mself\u001b[0m\u001b[0;34m.\u001b[0m\u001b[0m_string\u001b[0m\u001b[0;34m)\u001b[0m\u001b[0;34m\u001b[0m\u001b[0;34m\u001b[0m\u001b[0m\n\u001b[0m\u001b[1;32m     95\u001b[0m             \u001b[0mresult\u001b[0m \u001b[0;34m=\u001b[0m \u001b[0mself\u001b[0m\u001b[0;34m.\u001b[0m\u001b[0m_recvExact\u001b[0m\u001b[0;34m(\u001b[0m\u001b[0;34m)\u001b[0m\u001b[0;34m\u001b[0m\u001b[0;34m\u001b[0m\u001b[0m\n\u001b[1;32m     96\u001b[0m         \u001b[0;32mif\u001b[0m \u001b[0;32mnot\u001b[0m \u001b[0mresult\u001b[0m\u001b[0;34m:\u001b[0m\u001b[0;34m\u001b[0m\u001b[0;34m\u001b[0m\u001b[0m\n",
      "\u001b[0;31mAttributeError\u001b[0m: 'Connection' object has no attribute '_socket'"
     ]
    }
   ],
   "source": [
    "info_dict = exp.run(num_runs = 1, rl_actions = timer_switch_controller)"
   ]
  },
  {
   "cell_type": "code",
   "execution_count": 31,
   "metadata": {},
   "outputs": [],
   "source": [
    "states = info_dict['states']\n",
    "\n",
    "all_counts,all_speeds,all_tl_states = get_ave_veh_speed_counts_tl_states_timeseries(states)\n",
    "\n",
    "tl_states_numerical = numerical_tl_states(all_tl_states)"
   ]
  },
  {
   "cell_type": "code",
   "execution_count": 32,
   "metadata": {},
   "outputs": [
    {
     "data": {
      "image/png": "[encoded data removed]",
      "text/plain": [
       "<Figure size 1440x360 with 1 Axes>"
      ]
     },
     "metadata": {
      "needs_background": "light"
     },
     "output_type": "display_data"
    }
   ],
   "source": [
    "\n",
    "plt.figure(figsize=[20,5])\n",
    "_ = plt.plot(tl_states_numerical,'.')"
   ]
  },
  {
   "cell_type": "code",
   "execution_count": 33,
   "metadata": {},
   "outputs": [
    {
     "data": {
      "image/png": "[encoded data removed]",
      "text/plain": [
       "<Figure size 1440x360 with 1 Axes>"
      ]
     },
     "metadata": {
      "needs_background": "light"
     },
     "output_type": "display_data"
    }
   ],
   "source": [
    "plt.figure(figsize=[20,5])\n",
    "_ = plt.plot(all_speeds,'.')"
   ]
  },
  {
   "cell_type": "code",
   "execution_count": null,
   "metadata": {},
   "outputs": [],
   "source": [
    "# info_dict = exp.run(num_runs = 1, rl_actions = static_controller)\n",
    "\n",
    "# states = info_dict['states']\n",
    "\n",
    "# all_counts,all_speeds,all_tl_states = get_ave_veh_speed_counts_tl_states_timeseries(states)\n",
    "\n",
    "# tl_states_numerical = numerical_tl_states(all_tl_states)\n",
    "\n",
    "# plt.figure(figsize=[20,5])\n",
    "# _ = plt.plot(tl_states_numerical,'.')"
   ]
  }
 ],
 "metadata": {
  "kernelspec": {
   "display_name": "Python 3",
   "language": "python",
   "name": "python3"
  },
  "language_info": {
   "codemirror_mode": {
    "name": "ipython",
    "version": 3
   },
   "file_extension": ".py",
   "mimetype": "text/x-python",
   "name": "python",
   "nbconvert_exporter": "python",
   "pygments_lexer": "ipython3",
   "version": "3.6.8"
  }
 },
 "nbformat": 4,
 "nbformat_minor": 4
}
